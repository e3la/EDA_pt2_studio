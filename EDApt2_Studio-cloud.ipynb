{
  "cells": [
    {
      "cell_type": "markdown",
      "metadata": {
        "id": "view-in-github",
        "colab_type": "text"
      },
      "source": [
        "<a href=\"https://colab.research.google.com/github/e3la/EDA_pt2_studio/blob/master/EDApt2_Studio-cloud.ipynb\" target=\"_parent\"><img src=\"https://colab.research.google.com/assets/colab-badge.svg\" alt=\"Open In Colab\"/></a>"
      ]
    },
    {
      "cell_type": "markdown",
      "id": "2f470e67-1623-4416-b9c2-8367f7834a26",
      "metadata": {
        "id": "2f470e67-1623-4416-b9c2-8367f7834a26"
      },
      "source": [
        "# EDA part 2 Studio\n",
        "\n",
        "## Further Analysis of IMDB movies\n",
        "\n",
        "In this studio, we're returning to this [tutorial](https://towardsdatascience.com/understand-the-data-with-univariate-and-multivariate-charts-and-plots-in-python-3b9fcd68cd8) as a reference guide for our EDA.\n",
        "You've seen the data set before and you've worked through similar kinds of questions with the heart disease dataset.\n",
        "\n",
        "Blocks have been created for your code and we've asked you to add more in some places.\n",
        "\n",
        "The dataset from [Kaggle](https://www.kaggle.com/PromptCloudHQ/imdb-data)"
      ]
    },
    {
      "cell_type": "markdown",
      "id": "34632281-1e15-44b1-a3e3-b82ddacb5cbd",
      "metadata": {
        "id": "34632281-1e15-44b1-a3e3-b82ddacb5cbd"
      },
      "source": [
        "### 1. Find the relative proportions of movie genres represented."
      ]
    },
    {
      "cell_type": "code",
      "execution_count": 3,
      "id": "070ebed9-c948-4821-9a24-67f0e3fe8fce",
      "metadata": {
        "id": "070ebed9-c948-4821-9a24-67f0e3fe8fce"
      },
      "outputs": [],
      "source": [
        "# import dependencies\n",
        "import pandas as pd\n",
        "import matplotlib.pyplot as plt\n",
        "import seaborn as sns\n",
        "import numpy as np\n",
        "\n",
        "# create your data variabe using .read_csv\n",
        "\n",
        "url = 'https://raw.githubusercontent.com/e3la/EDA_pt2_studio/master/IMDB-Movie-Data.csv'\n",
        "\n",
        "df= pd.read_csv(url)\n",
        "\n",
        "# get reaquainted with the data by viewing the first 5 rows"
      ]
    },
    {
      "cell_type": "code",
      "execution_count": null,
      "id": "e8f7f6c5",
      "metadata": {
        "id": "e8f7f6c5"
      },
      "outputs": [],
      "source": [
        "# list the column names\n"
      ]
    },
    {
      "cell_type": "code",
      "execution_count": null,
      "id": "dfd297f7",
      "metadata": {
        "id": "dfd297f7"
      },
      "outputs": [],
      "source": [
        "# preview the contents of the 'Genre' column only"
      ]
    },
    {
      "cell_type": "code",
      "execution_count": null,
      "id": "219a2ac1",
      "metadata": {
        "id": "219a2ac1"
      },
      "outputs": [],
      "source": [
        "# using the .value_counts() method, explore the number of each genre type in the series\n",
        "# assign the result to a variable called genre_counts\n"
      ]
    },
    {
      "cell_type": "code",
      "execution_count": null,
      "id": "4adcdd70",
      "metadata": {
        "id": "4adcdd70"
      },
      "outputs": [],
      "source": [
        "# Find the proportions of each genre by dividing your variable assigned above by the sum of\n",
        "# all of the unique genre values\n",
        "# assign this to the variable genre_proportions\n"
      ]
    },
    {
      "cell_type": "code",
      "execution_count": null,
      "id": "dd24f821",
      "metadata": {
        "id": "dd24f821"
      },
      "outputs": [],
      "source": [
        "# the length of results a above is too long to know if there are any null values present\n",
        "# we can run .isna() on the series and collect the sum to check if there are missing values\n",
        "# uncomment the line below to see the results\n",
        "# (data['Genre'].isna().sum())\n"
      ]
    },
    {
      "cell_type": "code",
      "execution_count": null,
      "id": "77904b7c",
      "metadata": {
        "id": "77904b7c"
      },
      "outputs": [],
      "source": [
        "# use .head() on genre_proportions to get a better look at the top 20\n",
        "# remember: .head() can take a parameter to display more than 5 entries\n"
      ]
    },
    {
      "cell_type": "markdown",
      "id": "9fd9e484",
      "metadata": {
        "id": "9fd9e484"
      },
      "source": [
        "### 2. Find the minimum, maximum, average, and standard deviation of revenue data."
      ]
    },
    {
      "cell_type": "code",
      "execution_count": null,
      "id": "7042dfa6",
      "metadata": {
        "id": "7042dfa6"
      },
      "outputs": [],
      "source": [
        "# use .describe() on the revenue column to see some summary statistics of the revenue data present\n"
      ]
    },
    {
      "cell_type": "markdown",
      "id": "de436940",
      "metadata": {
        "id": "de436940"
      },
      "source": [
        "Do we have any missing revenue entries?\n",
        "Add a new code cell below this and use ``.isna()`` on the column to check.\n",
        "Ask yourself: does this affect the results of ``.describe()``?\n",
        "Hint: look at the count result above and compare that with the ``Length`` returned with ``.isna()``"
      ]
    },
    {
      "cell_type": "markdown",
      "id": "d50f3ba9",
      "metadata": {
        "id": "d50f3ba9"
      },
      "source": [
        "### 3. Make a plot distribution of the revenue data.\n"
      ]
    },
    {
      "cell_type": "code",
      "execution_count": null,
      "id": "fd50cc47",
      "metadata": {
        "id": "fd50cc47"
      },
      "outputs": [],
      "source": [
        "# use sns.histplot to get a birds eye view of the revenue distribution\n",
        "# Note: the refernce article plots Cholesterol data with ``distplot`` but we recieve\n",
        "# a deprecation warning so we've switched it with ``histplot``. The resulting graph is\n",
        "# virtually the same.\n"
      ]
    },
    {
      "cell_type": "markdown",
      "id": "8afe2aaf",
      "metadata": {
        "id": "8afe2aaf"
      },
      "source": [
        "Look back at your ``.describe()`` results above. Does this plotted distribution match the results of the 25%, 50%, and 75% percentile data?\n",
        "\n",
        "Create another code cell below this and make another histplot but with only the top 20 items in the revenue column. Run ``.describe()`` on the top 20 to again check the percentile distributions with what the graph displays."
      ]
    },
    {
      "cell_type": "markdown",
      "id": "7d8595c5",
      "metadata": {
        "id": "7d8595c5"
      },
      "source": [
        "### 4. Find the % of movies with a higher than avergage Rating"
      ]
    },
    {
      "cell_type": "code",
      "execution_count": null,
      "id": "66b6460d",
      "metadata": {
        "id": "66b6460d"
      },
      "outputs": [],
      "source": [
        "# create a variable called mean_rating.\n",
        "# assign mean_rating the result of running ``.mean()`` on the rating column.\n"
      ]
    },
    {
      "cell_type": "code",
      "execution_count": null,
      "id": "7454148e",
      "metadata": {
        "id": "7454148e"
      },
      "outputs": [],
      "source": [
        "# Find the dataset where a movie's rating is higher than mean_rating.\n",
        "# Divide that by the length of the total dataset.\n"
      ]
    },
    {
      "cell_type": "markdown",
      "id": "1c623861",
      "metadata": {
        "id": "1c623861"
      },
      "source": [
        "### 5. Plot the rating data against genre to observe the difference in score in different movie types"
      ]
    },
    {
      "cell_type": "code",
      "execution_count": null,
      "id": "fce70293",
      "metadata": {
        "id": "fce70293"
      },
      "outputs": [],
      "source": [
        "# run describe on the rating column\n"
      ]
    },
    {
      "cell_type": "code",
      "execution_count": null,
      "id": "212c395b",
      "metadata": {
        "id": "212c395b"
      },
      "outputs": [],
      "source": [
        "# Plot the rating data against genres\n",
        "# First, lets mirror what our reference article plots\n",
        "\n"
      ]
    },
    {
      "cell_type": "markdown",
      "id": "ed28d392",
      "metadata": {
        "id": "ed28d392"
      },
      "source": [
        "That graph isn't very helpful!\n",
        "Create a new code cell below this and create the same plot, but this time for data used,\n",
        "use only the first 20 entries.\n",
        "Do you find that any easier to read and interpret?\n",
        "Next, create one more cell. Use the same axes and the top 20 items in the data, but plot using ``sns.scatterplot()``. Do you learn anything different between the boxplot and the scatterplot?"
      ]
    },
    {
      "cell_type": "markdown",
      "id": "0bb688aa",
      "metadata": {
        "id": "0bb688aa"
      },
      "source": [
        "### 6. Make a chart to show the number of films in each rating group each year"
      ]
    },
    {
      "cell_type": "code",
      "execution_count": null,
      "id": "50a75081",
      "metadata": {
        "id": "50a75081"
      },
      "outputs": [],
      "source": [
        "# Create a new column called rating_group\n",
        "# Use to pd.cut() to bin(group) the rating_group column values by integer intervals 1-10\n"
      ]
    },
    {
      "cell_type": "code",
      "execution_count": null,
      "id": "e21526ed",
      "metadata": {
        "id": "e21526ed"
      },
      "outputs": [],
      "source": [
        "# Make a chart to show the number of films in each rating group per year\n"
      ]
    },
    {
      "cell_type": "markdown",
      "id": "f083278f",
      "metadata": {
        "id": "f083278f"
      },
      "source": [
        "Each year, which rating range(s) is the most concentrated? Does this match your results from the box and scatter plots above?"
      ]
    }
  ],
  "metadata": {
    "kernelspec": {
      "display_name": "Python 3",
      "language": "python",
      "name": "python3"
    },
    "language_info": {
      "codemirror_mode": {
        "name": "ipython",
        "version": 3
      },
      "file_extension": ".py",
      "mimetype": "text/x-python",
      "name": "python",
      "nbconvert_exporter": "python",
      "pygments_lexer": "ipython3",
      "version": "3.8.8"
    },
    "colab": {
      "provenance": [],
      "include_colab_link": true
    }
  },
  "nbformat": 4,
  "nbformat_minor": 5
}